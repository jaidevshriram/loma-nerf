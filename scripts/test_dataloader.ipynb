{
 "cells": [
  {
   "cell_type": "code",
   "execution_count": 16,
   "metadata": {},
   "outputs": [],
   "source": [
    "from dataloader import NeRFDataset\n",
    "from torch.utils.data import Dataset, DataLoader"
   ]
  },
  {
   "cell_type": "code",
   "execution_count": 17,
   "metadata": {},
   "outputs": [],
   "source": [
    "import matplotlib.pyplot as plt\n",
    "import numpy as np\n",
    "\n",
    "\n",
    "# Function to visualize a batch of data\n",
    "def visualize_batch(images, depths, n=5):\n",
    "    fig, axs = plt.subplots(n, 2, figsize=(10, 5 * n))\n",
    "    for i in range(n):\n",
    "        axs[i, 0].imshow(images[i])\n",
    "        axs[i, 0].set_title(\"Image\")\n",
    "        axs[i, 1].imshow(depths[i], cmap=\"gray\")\n",
    "        axs[i, 1].set_title(\"Depth Map\")\n",
    "    plt.show()"
   ]
  },
  {
   "cell_type": "code",
   "execution_count": 18,
   "metadata": {},
   "outputs": [
    {
     "ename": "FileNotFoundError",
     "evalue": "[Errno 2] No such file or directory: 'data/lego/train'",
     "output_type": "error",
     "traceback": [
      "\u001b[0;31m---------------------------------------------------------------------------\u001b[0m",
      "\u001b[0;31mFileNotFoundError\u001b[0m                         Traceback (most recent call last)",
      "Cell \u001b[0;32mIn[18], line 1\u001b[0m\n\u001b[0;32m----> 1\u001b[0m dataset \u001b[38;5;241m=\u001b[39m \u001b[43mNeRFDataset\u001b[49m\u001b[43m(\u001b[49m\u001b[43mroot_dir\u001b[49m\u001b[38;5;241;43m=\u001b[39;49m\u001b[38;5;124;43m\"\u001b[39;49m\u001b[38;5;124;43mdata/lego\u001b[39;49m\u001b[38;5;124;43m\"\u001b[39;49m\u001b[43m,\u001b[49m\u001b[43m \u001b[49m\u001b[43mimg_size\u001b[49m\u001b[38;5;241;43m=\u001b[39;49m\u001b[38;5;241;43m16\u001b[39;49m\u001b[43m)\u001b[49m\n\u001b[1;32m      2\u001b[0m dataloader \u001b[38;5;241m=\u001b[39m DataLoader(dataset, batch_size\u001b[38;5;241m=\u001b[39m\u001b[38;5;241m1\u001b[39m, shuffle\u001b[38;5;241m=\u001b[39m\u001b[38;5;28;01mTrue\u001b[39;00m)\n",
      "File \u001b[0;32m~/dev/loma-nerf/scripts/dataloader.py:12\u001b[0m, in \u001b[0;36mNeRFDataset.__init__\u001b[0;34m(self, root_dir, img_size, transform)\u001b[0m\n\u001b[1;32m     10\u001b[0m \u001b[38;5;28mself\u001b[39m\u001b[38;5;241m.\u001b[39mimg_size \u001b[38;5;241m=\u001b[39m img_size\n\u001b[1;32m     11\u001b[0m \u001b[38;5;28mself\u001b[39m\u001b[38;5;241m.\u001b[39mtransform \u001b[38;5;241m=\u001b[39m transform\n\u001b[0;32m---> 12\u001b[0m \u001b[38;5;28mself\u001b[39m\u001b[38;5;241m.\u001b[39mdata \u001b[38;5;241m=\u001b[39m \u001b[38;5;28;43mself\u001b[39;49m\u001b[38;5;241;43m.\u001b[39;49m\u001b[43m_load_data\u001b[49m\u001b[43m(\u001b[49m\u001b[43m)\u001b[49m\n",
      "File \u001b[0;32m~/dev/loma-nerf/scripts/dataloader.py:21\u001b[0m, in \u001b[0;36mNeRFDataset._load_data\u001b[0;34m(self)\u001b[0m\n\u001b[1;32m     16\u001b[0m \u001b[38;5;28;01mfor\u001b[39;00m phase \u001b[38;5;129;01min\u001b[39;00m [\u001b[38;5;124m\"\u001b[39m\u001b[38;5;124mtrain\u001b[39m\u001b[38;5;124m\"\u001b[39m, \u001b[38;5;124m\"\u001b[39m\u001b[38;5;124mval\u001b[39m\u001b[38;5;124m\"\u001b[39m, \u001b[38;5;124m\"\u001b[39m\u001b[38;5;124mtest\u001b[39m\u001b[38;5;124m\"\u001b[39m]:\n\u001b[1;32m     17\u001b[0m     phase_dir \u001b[38;5;241m=\u001b[39m os\u001b[38;5;241m.\u001b[39mpath\u001b[38;5;241m.\u001b[39mjoin(\u001b[38;5;28mself\u001b[39m\u001b[38;5;241m.\u001b[39mroot_dir, phase)\n\u001b[1;32m     18\u001b[0m     images \u001b[38;5;241m=\u001b[39m \u001b[38;5;28msorted\u001b[39m(\n\u001b[1;32m     19\u001b[0m         [\n\u001b[1;32m     20\u001b[0m             f\n\u001b[0;32m---> 21\u001b[0m             \u001b[38;5;28;01mfor\u001b[39;00m f \u001b[38;5;129;01min\u001b[39;00m os\u001b[38;5;241m.\u001b[39mlistdir(phase_dir)\n\u001b[1;32m     22\u001b[0m             \u001b[38;5;28;01mif\u001b[39;00m f\u001b[38;5;241m.\u001b[39mendswith(\u001b[38;5;124m\"\u001b[39m\u001b[38;5;124m.png\u001b[39m\u001b[38;5;124m\"\u001b[39m) \u001b[38;5;129;01mand\u001b[39;00m \u001b[38;5;124m\"\u001b[39m\u001b[38;5;124mdepth\u001b[39m\u001b[38;5;124m\"\u001b[39m \u001b[38;5;129;01mnot\u001b[39;00m \u001b[38;5;129;01min\u001b[39;00m f\n\u001b[1;32m     23\u001b[0m         ]\n\u001b[1;32m     24\u001b[0m     )\n\u001b[1;32m     25\u001b[0m     depth_maps \u001b[38;5;241m=\u001b[39m \u001b[38;5;28msorted\u001b[39m(\n\u001b[1;32m     26\u001b[0m         [\n\u001b[1;32m     27\u001b[0m             f\n\u001b[0;32m   (...)\u001b[0m\n\u001b[1;32m     30\u001b[0m         ]\n\u001b[1;32m     31\u001b[0m     )\n\u001b[1;32m     33\u001b[0m     \u001b[38;5;28;01mfor\u001b[39;00m img, depth \u001b[38;5;129;01min\u001b[39;00m \u001b[38;5;28mzip\u001b[39m(images, depth_maps):\n",
      "\u001b[0;31mFileNotFoundError\u001b[0m: [Errno 2] No such file or directory: 'data/lego/train'"
     ]
    }
   ],
   "source": [
    "dataset = NeRFDataset(root_dir=\"data/lego\", img_size=16)\n",
    "dataloader = DataLoader(dataset, batch_size=1, shuffle=True)"
   ]
  },
  {
   "cell_type": "code",
   "execution_count": 22,
   "metadata": {},
   "outputs": [
    {
     "name": "stdout",
     "output_type": "stream",
     "text": [
      "Phase: test, Image shape: (16, 16, 4), Depth shape: (16, 16, 4)\n",
      "Image sample data: [0. 0. 0. 0. 0. 0. 0. 0. 0. 0.]\n",
      "Depth sample data: [0. 0. 0. 0. 0. 0. 0. 0. 0. 0.]\n",
      "Unexpected image shape: (16, 16, 4), depth shape: (16, 16, 4)\n",
      "Image sample data: 0.2254633903503418\n",
      "Depth sample data: [0. 0. 0. ... 0. 0. 0.]\n",
      "Phase: test, Image shape: (16, 16, 4), Depth shape: (16, 16, 4)\n",
      "Image sample data: [0. 0. 0. 0. 0. 0. 0. 0. 0. 0.]\n",
      "Depth sample data: [0. 0. 0. 0. 0. 0. 0. 0. 0. 0.]\n",
      "Unexpected image shape: (16, 16, 4), depth shape: (16, 16, 4)\n",
      "Image sample data: 0.22769609093666077\n",
      "Depth sample data: [0. 0. 0. ... 0. 0. 0.]\n",
      "Phase: test, Image shape: (16, 16, 4), Depth shape: (16, 16, 4)\n",
      "Image sample data: [0. 0. 0. 0. 0. 0. 0. 0. 0. 0.]\n",
      "Depth sample data: [0. 0. 0. 0. 0. 0. 0. 0. 0. 0.]\n",
      "Unexpected image shape: (16, 16, 4), depth shape: (16, 16, 4)\n",
      "Image sample data: 0.27973729372024536\n",
      "Depth sample data: [0. 0. 0. ... 0. 0. 0.]\n",
      "Phase: test, Image shape: (16, 16, 4), Depth shape: (16, 16, 4)\n",
      "Image sample data: [0. 0. 0. 0. 0. 0. 0. 0. 0. 0.]\n",
      "Depth sample data: [0. 0. 0. 0. 0. 0. 0. 0. 0. 0.]\n",
      "Unexpected image shape: (16, 16, 4), depth shape: (16, 16, 4)\n",
      "Image sample data: 0.24393382668495178\n",
      "Depth sample data: [0. 0. 0. ... 0. 0. 0.]\n",
      "Phase: test, Image shape: (16, 16, 4), Depth shape: (16, 16, 4)\n",
      "Image sample data: [0. 0. 0. 0. 0. 0. 0. 0. 0. 0.]\n",
      "Depth sample data: [0. 0. 0. 0. 0. 0. 0. 0. 0. 0.]\n",
      "Unexpected image shape: (16, 16, 4), depth shape: (16, 16, 4)\n",
      "Image sample data: 0.1611940860748291\n",
      "Depth sample data: [0. 0. 0. ... 0. 0. 0.]\n"
     ]
    }
   ],
   "source": [
    "# Iterate through the dataset and visualize a few samples\n",
    "for i, batch in enumerate(dataloader):\n",
    "    if i >= 5:  # Limit to first 5 batches for visualization\n",
    "        break\n",
    "\n",
    "    image = batch[\"image\"].squeeze(0).numpy()\n",
    "    depth = batch[\"depth\"].squeeze(0).numpy()\n",
    "    phase = batch[\"phase\"][0]\n",
    "\n",
    "    print(f\"Phase: {phase}, Image shape: {image.shape}, Depth shape: {depth.shape}\")\n",
    "    print(f\"Image sample data: {image.flatten()[:10]}\")  # Show first 10 values\n",
    "    print(f\"Depth sample data: {depth.flatten()[:10]}\")  # Show first 10 values\n",
    "\n",
    "    if len(image.shape) == 3 and image.shape[2] == 3:  # Ensure image is in HWC format\n",
    "        visualize_batch([image], [depth], n=1)\n",
    "    else:\n",
    "        # Print out the data for inspection\n",
    "        print(f\"Unexpected image shape: {image.shape}, depth shape: {depth.shape}\")\n",
    "        print(f\"Image sample data: {image.flatten().mean()}\")  # Show first 10 values\n",
    "        print(f\"Depth sample data: {depth.flatten()[:-10]}\")  # Show first 10 values"
   ]
  },
  {
   "cell_type": "code",
   "execution_count": null,
   "metadata": {},
   "outputs": [],
   "source": []
  }
 ],
 "metadata": {
  "kernelspec": {
   "display_name": "loma",
   "language": "python",
   "name": "python3"
  },
  "language_info": {
   "codemirror_mode": {
    "name": "ipython",
    "version": 3
   },
   "file_extension": ".py",
   "mimetype": "text/x-python",
   "name": "python",
   "nbconvert_exporter": "python",
   "pygments_lexer": "ipython3",
   "version": "3.11.8"
  }
 },
 "nbformat": 4,
 "nbformat_minor": 2
}
